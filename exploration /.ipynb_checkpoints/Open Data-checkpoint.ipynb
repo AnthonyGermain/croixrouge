{
 "metadata": {
  "name": "",
  "signature": "sha256:deddd2150e69d07c182c90fbeb486fdfd7a51dd3288fbbccd2ebb56f9dd9d6e7"
 },
 "nbformat": 3,
 "nbformat_minor": 0,
 "worksheets": []
}